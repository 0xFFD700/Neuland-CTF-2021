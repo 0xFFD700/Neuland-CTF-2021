{
 "cells": [
  {
   "cell_type": "code",
   "execution_count": 51,
   "metadata": {},
   "outputs": [],
   "source": [
    "from eth_account import Account\n",
    "from web3.auto import w3\n",
    "assert(w3.isConnected())"
   ]
  },
  {
   "cell_type": "code",
   "execution_count": 52,
   "metadata": {},
   "outputs": [],
   "source": [
    "FLAG = \"nland{c4n7_h1d3_7h3_bl0ckz}\""
   ]
  },
  {
   "cell_type": "code",
   "execution_count": 28,
   "metadata": {},
   "outputs": [
    {
     "data": {
      "text/plain": [
       "'Sender wallet: 0x00Bfeb18489e4437f11c3594aaDcf56Cad9Fa458'"
      ]
     },
     "metadata": {},
     "output_type": "display_data"
    },
    {
     "data": {
      "text/plain": [
       "'Sender private key: 0x8de6d575faeba99878b0b17fb3bcf0deb7c1ff15188a0b57b9769a1542ea877b'"
      ]
     },
     "metadata": {},
     "output_type": "display_data"
    }
   ],
   "source": [
    "sender = Account.create('xxxtra entropy')\n",
    "display(f\"Sender wallet: {sender.address}\")\n",
    "display(f\"Sender private key: {sender.key.hex()}\")"
   ]
  },
  {
   "cell_type": "code",
   "execution_count": 29,
   "metadata": {},
   "outputs": [
    {
     "data": {
      "text/plain": [
       "'Receiver wallet: 0x5B22E7bC66bcAfc324eaADA1e0344c64F3d019A1'"
      ]
     },
     "metadata": {},
     "output_type": "display_data"
    },
    {
     "data": {
      "text/plain": [
       "'Receiver private key: 0xdd15e2fc3ced26555978d21c0d8afd6047ddeac033b7ba0ba2efe3ad0688120c'"
      ]
     },
     "metadata": {},
     "output_type": "display_data"
    }
   ],
   "source": [
    "receiver = Account.create('even moar entropy')\n",
    "display(f\"Receiver wallet: {receiver.address}\")\n",
    "display(f\"Receiver private key: {receiver.key.hex()}\")"
   ]
  },
  {
   "cell_type": "code",
   "execution_count": 66,
   "metadata": {},
   "outputs": [],
   "source": [
    "with open(\"keys.txt\", \"w\") as keys:\n",
    "          keys.write(f\"Sender: {sender.address} / {sender.key.hex()}\\n\")\n",
    "          keys.write(f\"Receiver: {receiver.address} / {receiver.key.hex()}\\n\")"
   ]
  },
  {
   "cell_type": "markdown",
   "metadata": {},
   "source": [
    "## Challenge 1"
   ]
  },
  {
   "cell_type": "code",
   "execution_count": 56,
   "metadata": {},
   "outputs": [],
   "source": [
    "txn = sender.sign_transaction({\n",
    "    \"type\": 2,\n",
    "    \"gas\": 100000,\n",
    "    \"maxFeePerGas\": 3000000000,\n",
    "    \"maxPriorityFeePerGas\": 2000000000,\n",
    "    \"data\": w3.toHex(text=FLAG),\n",
    "    \"nonce\": w3.eth.get_transaction_count(sender.address),\n",
    "    \"to\": receiver.address,\n",
    "    \"value\": 0,\n",
    "    \"chainId\": 3\n",
    "})"
   ]
  },
  {
   "cell_type": "code",
   "execution_count": 57,
   "metadata": {},
   "outputs": [
    {
     "data": {
      "text/plain": [
       "HexBytes('0x4f73601fe42b6c116e446a3fbd5bd517cbe6adf3e86454507b326f10e535d7fd')"
      ]
     },
     "execution_count": 57,
     "metadata": {},
     "output_type": "execute_result"
    }
   ],
   "source": [
    "w3.eth.send_raw_transaction(txn.rawTransaction)"
   ]
  }
 ],
 "metadata": {
  "kernelspec": {
   "display_name": "Python 3",
   "language": "python",
   "name": "python3"
  },
  "language_info": {
   "codemirror_mode": {
    "name": "ipython",
    "version": 3
   },
   "file_extension": ".py",
   "mimetype": "text/x-python",
   "name": "python",
   "nbconvert_exporter": "python",
   "pygments_lexer": "ipython3",
   "version": "3.8.10"
  }
 },
 "nbformat": 4,
 "nbformat_minor": 4
}
