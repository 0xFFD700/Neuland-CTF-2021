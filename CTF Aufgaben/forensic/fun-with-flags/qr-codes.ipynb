{
 "cells": [
  {
   "cell_type": "code",
   "execution_count": 1,
   "metadata": {},
   "outputs": [],
   "source": [
    "import numpy as np\n",
    "import PIL, PIL.ImageDraw, PIL.ImageOps, PIL.ImageMath\n",
    "import functools, itertools, io\n",
    "import bitstring\n",
    "\n",
    "from reedsolo import RSCodec, ReedSolomonError\n",
    "from enum import Enum, IntEnum, auto"
   ]
  },
  {
   "cell_type": "code",
   "execution_count": 2,
   "metadata": {},
   "outputs": [],
   "source": [
    "np.set_printoptions(edgeitems=30)\n",
    "np.core.arrayprint._line_width = 180"
   ]
  },
  {
   "cell_type": "code",
   "execution_count": 3,
   "metadata": {},
   "outputs": [],
   "source": [
    "def bch(n,k,_):\n",
    "    \"\"\"Return calculation function for (n,k,d)-BCH-Code.\"\"\"\n",
    "    def polynom_div(x, g):\n",
    "        for i in range(k-1, -1, -1):\n",
    "            if x & (1 << (n - k + i)):\n",
    "                x ^= (g << i)\n",
    "        return x\n",
    "    return lambda x,g: (x << (n-k)) + polynom_div(x << (n-k), g)"
   ]
  },
  {
   "cell_type": "code",
   "execution_count": 4,
   "metadata": {},
   "outputs": [],
   "source": [
    "class QR_Code:\n",
    "    class Version(IntEnum):\n",
    "        Version_2 = 2\n",
    "        Version_3 = 3\n",
    "        \n",
    "    # Format Info\n",
    "    mask_format_a = [[8,8,8,8,8,8,8,8,7,5,4,3,2,1,0], # y\n",
    "                     [0,1,2,3,4,5,7,8,8,8,8,8,8,8,8]] # x\n",
    "    \n",
    "    mask_format_b = [[24,23,22,21,20,19,18, 8, 8, 8, 8, 8, 8, 8, 8], # y\n",
    "                     [ 8, 8, 8, 8, 8, 8, 8,17,18,19,20,21,22,23,24]] # x\n",
    "    \n",
    "    class Mask(Enum):\n",
    "        MASK_0 = 0b000, lambda y,x: (y + x) % 2 == 0,\n",
    "        MASK_1 = 0b001, lambda y,x: y % 2 == 0,\n",
    "        MASK_2 = 0b010, lambda y,x: x % 3 == 0,\n",
    "        MASK_3 = 0b011, lambda y,x: (y + x) % 3 == 0,\n",
    "        MASK_4 = 0b100, lambda y,x: (y // 2 + x // 3) % 2 == 0,\n",
    "        MASK_5 = 0b101, lambda y,x: (y * x) % 2 + (y * x) % 3 == 0,\n",
    "        MASK_6 = 0b110, lambda y,x: ((y * x) % 3 + y * x) % 2 == 0,\n",
    "        MASK_7 = 0b111, lambda y,x: ((y * x) % 3 + y + x) % 2 == 0,\n",
    "\n",
    "\n",
    "    class EC_Level(IntEnum):\n",
    "        L = 0b01\n",
    "        M = 0b00\n",
    "        Q = 0b11\n",
    "        H = 0b10\n",
    "\n",
    "    # Info Table\n",
    "    info = {\n",
    "        Version.Version_2: {\n",
    "            \"size\": (25,25),\n",
    "            \"total\": 44,\n",
    "            \"capacity\": {\n",
    "                EC_Level.L: 34,\n",
    "                EC_Level.M: 28,\n",
    "                EC_Level.Q: 22,\n",
    "                EC_Level.H: 16\n",
    "            }\n",
    "        },\n",
    "    }\n",
    "    \n",
    "    # Patterns\n",
    "    position_pattern = np.array([ \\\n",
    "        [1,1,1,1,1,1,1], \\\n",
    "        [1,0,0,0,0,0,1], \\\n",
    "        [1,0,1,1,1,0,1], \\\n",
    "        [1,0,1,1,1,0,1], \\\n",
    "        [1,0,1,1,1,0,1], \\\n",
    "        [1,0,0,0,0,0,1], \\\n",
    "        [1,1,1,1,1,1,1], \\\n",
    "    ], dtype=np.ubyte)\n",
    "    alignment_pattern = np.array([\n",
    "        [1,1,1,1,1],\n",
    "        [1,0,0,0,1],\n",
    "        [1,0,1,0,1],\n",
    "        [1,0,0,0,1],\n",
    "        [1,1,1,1,1]\n",
    "    ], dtype=np.ubyte)\n",
    "    \n",
    "    def __init__(self, version: Version = Version.Version_2, ec_level: EC_Level = EC_Level.L, mask: Mask = Mask.MASK_0):\n",
    "        self.version = version\n",
    "        self.size = self.info[self.version][\"size\"]\n",
    "        self.ec_level = ec_level\n",
    "        self._mask = mask\n",
    "        self._bch = bch(15,5,7)\n",
    "        self.data = b\"\"\n",
    "        self._rsc = RSCodec(self.info[self.version][\"total\"] - self.capacity)\n",
    "                \n",
    "    def add_static_pattern(self):\n",
    "        # Position Markers\n",
    "        mask_pos_tl = np.ogrid[0:8, 0:8]\n",
    "        mask_pos_tr = np.ogrid[0:8, 17:25]\n",
    "        mask_pos_bl = np.ogrid[17:25, 0:8]\n",
    "        self._bits[tuple(mask_pos_tl)] = np.pad(QR_Code.position_pattern, pad_width = ((0,1), (0,1)))\n",
    "        self._bits[tuple(mask_pos_tr)] = np.pad(QR_Code.position_pattern, pad_width = ((0,1), (1,0)))\n",
    "        self._bits[tuple(mask_pos_bl)] = np.pad(QR_Code.position_pattern, pad_width = ((1,0), (0,1)))\n",
    "        # Alignment Markers\n",
    "        # mask_align   = (16 <= x) & (x <= 20) & (16 <= y) & (y <= 20)\n",
    "        mask_align = np.ogrid[16:21, 16:21]\n",
    "        self._bits[tuple(mask_align)] = QR_Code.alignment_pattern\n",
    "        # Timing Pattern\n",
    "        mask_sync_h   = np.ogrid[6:7, 8:17]\n",
    "        mask_sync_v   = np.ogrid[8:17, 6:7]\n",
    "        self._bits[tuple(mask_sync_h)] = (mask_sync_h[1]+1) % 2\n",
    "        self._bits[tuple(mask_sync_v)] = (mask_sync_v[0]+1) % 2\n",
    "        # Dark Module\n",
    "        mask_dark_module = self.dark_module()\n",
    "        self._bits[mask_dark_module] = 1\n",
    "    \n",
    "    def dark_module(self):\n",
    "        return ((4 * self.version) + 9, 8)\n",
    "        \n",
    "    @property\n",
    "    def data(self):\n",
    "        padded = itertools.chain(self._data, itertools.cycle(b\"\\xEC\\x11\"))\n",
    "        bytelist = list(itertools.islice(padded, self.capacity))\n",
    "        return bytes(bytelist)\n",
    "    \n",
    "    @data.setter\n",
    "    def data(self, value: bytes):\n",
    "        self._data = bytes(value)\n",
    "\n",
    "    @property\n",
    "    def capacity(self):\n",
    "        return self.info[self.version][\"capacity\"][self.ec_level]\n",
    "    \n",
    "    @property\n",
    "    def format_bits(self):\n",
    "        mask_code, _ = self._mask.value\n",
    "        format_info = (self.ec_level.value << 3) | mask_code\n",
    "        format_bits = self._bch(format_info, 0b10100110111)\n",
    "        return bitstring.pack(\"uint:15\", format_bits ^ 0b101010000010010)\n",
    "    \n",
    "    @property\n",
    "    def bits(self): \n",
    "        self._bits = np.full(self.size, 255, dtype=np.ubyte)\n",
    "        self.add_static_pattern()\n",
    "        \n",
    "        self._bits[tuple(QR_Code.mask_format_a)] = self._bits[tuple(QR_Code.mask_format_b)] = self.format_bits\n",
    "        \n",
    "        self.data_mask = (self._bits == 255).astype(np.ubyte)\n",
    "        bits = bitstring.BitArray(hex=self._rsc.encode(self.data).hex())\n",
    "        # display(f\"{bits=} len={len(bits)}\")\n",
    "        for pos, bit in zip(self.position_stream(), bits):\n",
    "            self._bits[pos] = bit\n",
    "\n",
    "        self._bits ^= (self.data_mask & self.mask).astype(np.ubyte)\n",
    "            \n",
    "        return self._bits\n",
    "\n",
    "    def position_stream(self):\n",
    "        y,x = self.size\n",
    "        x_hat = x - 1\n",
    "        while x_hat > 0:\n",
    "            for ys in [range(y-1, 0-1, -1), range(0, y, 1)]:\n",
    "                for y_hat in ys:\n",
    "                    if self._bits[y_hat, x_hat] == 255:\n",
    "                        yield (y_hat, x_hat)\n",
    "                    if self._bits[y_hat, x_hat-1] == 255:\n",
    "                        yield (y_hat, x_hat-1)\n",
    "                x_hat -= 2\n",
    "                # Special case: vertical timing pattern at x=6\n",
    "                if x_hat == 6:\n",
    "                    x_hat = x_hat - 1\n",
    "    \n",
    "    @property\n",
    "    def mask(self):\n",
    "        n,m = self.size\n",
    "        y,x = np.mgrid[0:n, 0:m]\n",
    "        _, mask_fn = self._mask.value\n",
    "        return mask_fn(y,x).astype(np.ubyte)\n",
    "        \n",
    "    @staticmethod\n",
    "    def draw(img=None, grid=True, scale=10):\n",
    "        width, height = [coord * scale for coord in img.shape]\n",
    "        img = PIL.Image.fromarray(255 * (1-img), mode=\"L\")\n",
    "        out = img.resize((width, height), resample=PIL.Image.NEAREST)\n",
    "\n",
    "        if grid:\n",
    "            grid_color = 200\n",
    "            draw = PIL.ImageDraw.Draw(out)\n",
    "            for x in range(0, width, scale):\n",
    "                draw.line((x, 0) + (x, height), fill=grid_color)\n",
    "            for y in range(0, height, scale):\n",
    "                draw.line((0, y) + (width, y), fill=grid_color)  \n",
    "        return out"
   ]
  },
  {
   "cell_type": "code",
   "execution_count": 5,
   "metadata": {},
   "outputs": [],
   "source": [
    "import abc\n",
    "\n",
    "class Encoder(abc.ABC):\n",
    "    class EncodingMode(IntEnum):\n",
    "        NUMERIC = 0b0001\n",
    "        ALPHA   = 0b0010\n",
    "        BYTE    = 0b0100\n",
    "        KANJI   = 0b1000\n",
    "        ECI     = 0b0111\n",
    "\n",
    "    @abc.abstractmethod\n",
    "    def __bytes__(self):\n",
    "        pass\n",
    "    \n",
    "class ByteEncoder(Encoder):\n",
    "    def __init__(self, byte_str, length = None):\n",
    "        self._bytes = byte_str\n",
    "        self._len   = len(byte_str)\n",
    "        self._bitstring = bitstring.pack('uint:4, uint:8, hex', self.EncodingMode.BYTE, self._len, self._bytes.hex())\n",
    "    \n",
    "    def __len__(self):\n",
    "        return len(self._bitstring)\n",
    "    \n",
    "    def __bytes__(self):\n",
    "        return self._bitstring.tobytes()"
   ]
  },
  {
   "cell_type": "code",
   "execution_count": 6,
   "metadata": {},
   "outputs": [],
   "source": [
    "qr = QR_Code(ec_level = QR_Code.EC_Level.M, mask = QR_Code.Mask.MASK_5)"
   ]
  },
  {
   "cell_type": "code",
   "execution_count": 7,
   "metadata": {},
   "outputs": [],
   "source": [
    "# qr.data = ByteEncoder(b\"nland{61mm3_5um_qr_fun}\")\n",
    "qr.data = ByteEncoder(b\"DUMMYFLAG\")"
   ]
  },
  {
   "cell_type": "code",
   "execution_count": 8,
   "metadata": {},
   "outputs": [],
   "source": [
    "stage = 0\n",
    "QR_Code.draw(qr.bits, scale=16, grid=False).save(f\"output-{stage}.png\")"
   ]
  },
  {
   "cell_type": "code",
   "execution_count": 9,
   "metadata": {},
   "outputs": [],
   "source": [
    "img = qr.bits\n",
    "for mask in QR_Code.Mask:\n",
    "    # skip existing mask\n",
    "    if mask == qr._mask:\n",
    "        continue\n",
    "    _, mask_fn = mask.value\n",
    "    n,m = img.shape\n",
    "    y,x = np.mgrid[0:n, 0:m]\n",
    "    img ^= (qr.data_mask & mask_fn(y,x))"
   ]
  },
  {
   "cell_type": "code",
   "execution_count": 10,
   "metadata": {},
   "outputs": [],
   "source": [
    "stage = 1\n",
    "lower = QR_Code.draw(img, scale=16, grid=False)\n",
    "lower.save(f\"output-{stage}.png\")"
   ]
  },
  {
   "cell_type": "raw",
   "metadata": {},
   "source": [
    "QR_Code.draw(qr.data_mask, scale=25, grid=False).save(\"data_mask.png\")"
   ]
  },
  {
   "cell_type": "raw",
   "metadata": {},
   "source": [
    "from ipywidgets import interact, interactive, fixed, interact_manual\n",
    "import ipywidgets as widgets\n",
    "\n",
    "def partial_fill(progress, img):\n",
    "    img_hat = img.copy()\n",
    "    for y,x in itertools.islice(QR_Version.VERSION_2.position_stream(img_hat), progress):\n",
    "        img_hat[y,x] = 1\n",
    "    return draw_bits(img_hat, grid=True)\n",
    "\n",
    "interact(partial_fill, progress=widgets.IntSlider(min=0, max=360, step=1, value=10), img=fixed(bits))"
   ]
  },
  {
   "cell_type": "markdown",
   "metadata": {},
   "source": [
    "## Stage 2: Merge with upper layer"
   ]
  },
  {
   "cell_type": "code",
   "execution_count": 11,
   "metadata": {},
   "outputs": [],
   "source": [
    "import codecs, png"
   ]
  },
  {
   "cell_type": "code",
   "execution_count": 12,
   "metadata": {},
   "outputs": [],
   "source": [
    "upper = PIL.Image.open(\"Flag_of_FOTW.png\")"
   ]
  },
  {
   "cell_type": "code",
   "execution_count": 13,
   "metadata": {},
   "outputs": [],
   "source": [
    "size = max(lower.size, upper.size)"
   ]
  },
  {
   "cell_type": "code",
   "execution_count": 14,
   "metadata": {},
   "outputs": [],
   "source": [
    "mode, colors = upper.palette.getdata()\n",
    "n_colors = len(colors)//3\n",
    "upper_arr = np.array(upper)"
   ]
  },
  {
   "cell_type": "code",
   "execution_count": 15,
   "metadata": {},
   "outputs": [],
   "source": [
    "resized = PIL.Image.new(\"L\", size, color=255)\n",
    "resized.paste(lower, tuple(np.subtract(size, lower.size) // 2))"
   ]
  },
  {
   "cell_type": "code",
   "execution_count": 16,
   "metadata": {},
   "outputs": [],
   "source": [
    "mask = np.array(resized) < 128\n",
    "upper_arr[mask] += n_colors"
   ]
  },
  {
   "cell_type": "code",
   "execution_count": 17,
   "metadata": {},
   "outputs": [],
   "source": [
    "output = PIL.Image.fromarray(upper_arr, mode=\"P\")\n",
    "palette = colors * 2\n",
    "output.putpalette(palette)"
   ]
  },
  {
   "cell_type": "code",
   "execution_count": 18,
   "metadata": {},
   "outputs": [],
   "source": [
    "stage = 2\n",
    "output.save(f\"output-{stage}.png\")"
   ]
  },
  {
   "cell_type": "markdown",
   "metadata": {},
   "source": [
    "## Additional distortions"
   ]
  },
  {
   "cell_type": "markdown",
   "metadata": {},
   "source": [
    "### Stage 3: Add exif data"
   ]
  },
  {
   "cell_type": "code",
   "execution_count": 19,
   "metadata": {},
   "outputs": [],
   "source": [
    "stage = 3\n",
    "ifile = PIL.Image.open(f\"output-{stage-1}.png\")\n",
    "exif = ifile.getexif()\n",
    "# UserComment\n",
    "exif[0x9286] = bytes(i % 0x15 for i in range(1024)) + codecs.encode(\"Forget steghide. This is no stego challenge.\", \"utf8\") \n",
    "ifile.save(f\"output-{stage}.png\", exif=exif)"
   ]
  },
  {
   "cell_type": "markdown",
   "metadata": {},
   "source": [
    "### Stage 4: Add compressed zTXt chunk"
   ]
  },
  {
   "cell_type": "code",
   "execution_count": 20,
   "metadata": {},
   "outputs": [],
   "source": [
    "import gzip, struct"
   ]
  },
  {
   "cell_type": "code",
   "execution_count": 21,
   "metadata": {},
   "outputs": [],
   "source": [
    "stage = 4\n",
    "text = gzip.compress(codecs.encode(\"Seven masks too many!\", \"utf8\"))\n",
    "index = 2"
   ]
  },
  {
   "cell_type": "code",
   "execution_count": 22,
   "metadata": {},
   "outputs": [],
   "source": [
    "reader = png.Reader(filename=f\"output-{stage-1}.png\")\n",
    "chunks = reader.chunks()\n",
    "chunk_list = list(chunks)\n",
    "chunk_list.insert(index, (b\"zTXt\", b\"hint\" + b\"\\x00\" + b\"\\x01\" + text))\n",
    "with open(f\"output-{stage}.png\", \"wb\") as ofile:\n",
    "    png.write_chunks(ofile, chunk_list)"
   ]
  },
  {
   "cell_type": "markdown",
   "metadata": {},
   "source": [
    "### Stage 5: Add tEXt chunk"
   ]
  },
  {
   "cell_type": "code",
   "execution_count": 23,
   "metadata": {},
   "outputs": [],
   "source": [
    "lyrics = \"\"\"We're no strangers to Exif\n",
    "You know the rules and so do I\n",
    "A full commitment's what I'm thinking of\n",
    "You wouldn't get this from any other guy\n",
    "\n",
    "I just wanna tell you how I'm feeling\n",
    "Gotta make you understand\n",
    "\n",
    "Never gonna give you up\n",
    "Never gonna let you down\n",
    "Never gonna run around and desert you\n",
    "Never gonna make you cry\n",
    "Never gonna say goodbye\n",
    "Never gonna tell a lie and hurt you\"\"\"\n",
    "text = codecs.encode(b\"Try jumping, amazon treasure ahead.\", \"base64\")\n",
    "stage = 5\n",
    "index = 1"
   ]
  },
  {
   "cell_type": "code",
   "execution_count": 24,
   "metadata": {},
   "outputs": [],
   "source": [
    "reader = png.Reader(filename=f\"output-{stage-1}.png\")\n",
    "chunks = reader.chunks()\n",
    "chunk_list = list(chunks)\n",
    "chunk_list.insert(index, (b\"tEXt\", b\"hint\" + b\"\\0\" + text))\n",
    "chunk_list.insert(index, (b\"tEXt\", b\"Comment\" + b\"\\0\" + codecs.encode(lyrics, \"utf8\")))\n",
    "with open(f\"output-{stage}.png\", \"wb\") as ofile:\n",
    "    png.write_chunks(ofile, chunk_list)"
   ]
  },
  {
   "cell_type": "markdown",
   "metadata": {},
   "source": [
    "### Stage 6: Add hint after IEND chunk"
   ]
  },
  {
   "cell_type": "code",
   "execution_count": 25,
   "metadata": {},
   "outputs": [],
   "source": [
    "stage = 6\n",
    "with open(f\"output-{stage-1}.png\", \"rb\") as ifile:\n",
    "    with open(f\"output-{stage}.png\", \"wb\") as ofile:\n",
    "        data = ifile.read()\n",
    "        banner = codecs.encode(\"No, seriously. This ain't no stego challenge!\", \"utf8\")\n",
    "        ofile.write(data + banner)"
   ]
  },
  {
   "cell_type": "code",
   "execution_count": null,
   "metadata": {},
   "outputs": [],
   "source": []
  }
 ],
 "metadata": {
  "kernelspec": {
   "display_name": "Python 3",
   "language": "python",
   "name": "python3"
  },
  "language_info": {
   "codemirror_mode": {
    "name": "ipython",
    "version": 3
   },
   "file_extension": ".py",
   "mimetype": "text/x-python",
   "name": "python",
   "nbconvert_exporter": "python",
   "pygments_lexer": "ipython3",
   "version": "3.8.10"
  }
 },
 "nbformat": 4,
 "nbformat_minor": 4
}
